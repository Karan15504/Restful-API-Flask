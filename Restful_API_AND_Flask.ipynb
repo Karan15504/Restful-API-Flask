{
  "nbformat": 4,
  "nbformat_minor": 0,
  "metadata": {
    "colab": {
      "provenance": []
    },
    "kernelspec": {
      "name": "python3",
      "display_name": "Python 3"
    },
    "language_info": {
      "name": "python"
    }
  },
  "cells": [
    {
      "cell_type": "markdown",
      "source": [
        "Restful API & Flask"
      ],
      "metadata": {
        "id": "wxPKBstbhGEK"
      }
    },
    {
      "cell_type": "markdown",
      "source": [
        "## Q1. What is a RESTful API?\n",
        "A RESTful API (Representational State Transfer API) is an architectural style used for building web services. It relies on **HTTP methods** like GET, POST, PUT, and DELETE to perform operations on resources.  \n",
        "- **Resource-based:** Every entity (user, product, etc.) is treated as a resource with its own URL.  \n",
        "- **Stateless:** Each request from the client contains all the information the server needs; the server does not store client state.  \n",
        "- **Uniform Interface:** The interaction between client and server follows consistent principles.  \n",
        "\n",
        "**Why important?** RESTful APIs make it easy for applications to communicate over the internet, enabling integration between mobile apps, web apps, and cloud services.  \n",
        "\n",
        "---\n",
        "\n",
        "## Q2. Explain the concept of API specification.\n",
        "An **API specification** is a formal document that describes how an API should behave. It defines:  \n",
        "- **Endpoints** (URLs for resources).  \n",
        "- **HTTP methods** supported by each endpoint.  \n",
        "- **Request parameters** and data formats (JSON, XML).  \n",
        "- **Response structure** and possible error codes.  \n",
        "\n",
        "**Why useful?**  \n",
        "- Provides clarity to developers.  \n",
        "- Ensures consistency across teams.  \n",
        "- Allows automatic generation of documentation and client SDKs (e.g., via Swagger/OpenAPI).  \n",
        "\n",
        "---\n",
        "\n",
        "## Q3. What is Flask, and why is it popular for building APIs?\n",
        "Flask is a **lightweight Python web framework** designed for flexibility and simplicity.  \n",
        "- It provides essential tools for building web applications and APIs without unnecessary complexity.  \n",
        "- Flask follows the principle of being minimal, letting developers add only what they need.  \n",
        "\n",
        "**Why popular for APIs?**  \n",
        "1. Easy to learn and use – perfect for beginners.  \n",
        "2. Flexible – supports both small apps and large projects.  \n",
        "3. Rich ecosystem – extensions like Flask-RESTful, Flask-SQLAlchemy.  \n",
        "4. Strong community support and documentation.  \n",
        "\n",
        "---\n",
        "\n",
        "## Q4. What is routing in Flask?\n",
        "Routing in Flask is the process of **mapping a URL to a specific function** (called a view function). When a client visits a URL, Flask determines which function should handle that request.  \n",
        "\n",
        "Example:  \n",
        "- `/home` → handled by `home()` function  \n",
        "- `/about` → handled by `about()` function  \n",
        "\n",
        "Routing allows developers to organize their applications and define how users interact with it.  \n",
        "\n",
        "---\n",
        "\n",
        "## Q5. How do you create a simple Flask application?\n",
        "A simple Flask application involves:  \n",
        "1. Importing Flask.  \n",
        "2. Creating an instance of the Flask class.  \n",
        "3. Defining routes and their view functions.  \n",
        "4. Running the application server.  \n",
        "\n",
        "Even with just a few lines of code, Flask allows you to serve web pages and handle API requests.  \n",
        "\n",
        "---\n",
        "\n",
        "## Q6. What are HTTP methods used in RESTful APIs?\n",
        "The key HTTP methods are:  \n",
        "- **GET** – Retrieve data from the server.  \n",
        "- **POST** – Create a new resource.  \n",
        "- **PUT** – Update an existing resource.  \n",
        "- **DELETE** – Remove a resource.  \n",
        "- **PATCH** – Partially update a resource.  \n",
        "\n",
        "Each method follows REST principles and makes APIs predictable and easy to use.  \n",
        "\n",
        "---\n",
        "\n",
        "## Q7. What is the purpose of the `@app.route()` decorator in Flask?\n",
        "The `@app.route()` decorator binds a URL to a Python function. When a client visits the URL, Flask calls that function.  \n",
        "- Example: `@app.route(\"/hello\")` → connects `/hello` to `hello()` function.  \n",
        "- It defines endpoints in a clear and simple way.  \n",
        "\n",
        "Without routing, a Flask app would not know how to respond to different URLs.  \n",
        "\n",
        "---\n",
        "\n",
        "## Q8. What is the difference between GET and POST HTTP methods?\n",
        "- **GET:**  \n",
        "  - Used to request data from the server.  \n",
        "  - Parameters are sent in the URL query string.  \n",
        "  - Suitable for fetching information (idempotent).  \n",
        "\n",
        "- **POST:**  \n",
        "  - Used to send data to the server, usually in the request body.  \n",
        "  - Commonly used for form submissions, creating resources, or sending JSON data.  \n",
        "  - Not idempotent – multiple POSTs may create multiple records.  \n",
        "\n",
        "---\n",
        "\n",
        "## Q9. How do you handle errors in Flask APIs?\n",
        "Error handling is crucial for building reliable APIs. Flask provides mechanisms like:  \n",
        "- **Custom error handlers** using `@app.errorhandler()`.  \n",
        "- Returning meaningful HTTP status codes (e.g., 404 for not found, 500 for server error).  \n",
        "- Sending JSON responses with error messages for consistency.  \n",
        "\n",
        "Proper error handling improves user experience and helps developers debug issues.  \n",
        "\n",
        "---\n",
        "\n",
        "## Q10. How do you connect Flask to a SQL database?\n",
        "To connect Flask to a SQL database, developers typically use **Flask-SQLAlchemy**, which is an ORM (Object Relational Mapper).  \n",
        "Steps:  \n",
        "1. Install and configure the database connection string.  \n",
        "2. Define models (classes that represent tables).  \n",
        "3. Use SQLAlchemy methods to perform CRUD operations.  \n",
        "\n",
        "This makes database handling more Pythonic and reduces manual SQL queries.  \n",
        "\n",
        "---\n",
        "\n",
        "## Q11. What is the role of Flask-SQLAlchemy?\n",
        "Flask-SQLAlchemy is an extension that integrates SQLAlchemy with Flask.  \n",
        "- It simplifies database setup and configuration.  \n",
        "- Provides a Python class-based interface for defining database models.  \n",
        "- Supports migrations, relationships, and advanced queries.  \n",
        "\n",
        "It bridges the gap between Flask apps and relational databases like MySQL, PostgreSQL, or SQLite.  \n",
        "\n",
        "---\n",
        "\n",
        "## Q12. What are Flask blueprints, and how are they useful?\n",
        "Blueprints in Flask are a way to organize an application into smaller, reusable components.  \n",
        "- They allow grouping routes, templates, and static files into modules.  \n",
        "- Useful in large projects where multiple developers work on different parts.  \n",
        "\n",
        "For example, an app can have separate blueprints for `auth`, `admin`, and `api`.  \n",
        "\n",
        "---\n",
        "\n",
        "## Q13. What is the purpose of Flask's request object?\n",
        "The `request` object in Flask provides access to all incoming request data.  \n",
        "- Contains details like form data, JSON body, headers, and query parameters.  \n",
        "- Example: `request.args` for query strings, `request.json` for JSON body.  \n",
        "\n",
        "It is essential for handling user input in APIs.  \n",
        "\n",
        "---\n",
        "\n",
        "## Q14. How do you create a RESTful API endpoint using Flask?\n",
        "To create a RESTful API endpoint:  \n",
        "1. Define a route with `@app.route()`.  \n",
        "2. Specify the allowed HTTP methods (GET, POST, etc.).  \n",
        "3. Inside the function, handle logic and return JSON responses.  \n",
        "\n",
        "Endpoints define how clients interact with the API resources.  \n",
        "\n",
        "---\n",
        "\n",
        "## Q15. What is the purpose of Flask's `jsonify()` function?\n",
        "The `jsonify()` function converts Python dictionaries or lists into proper JSON responses with the correct MIME type (`application/json`).  \n",
        "- Ensures responses follow JSON standards.  \n",
        "- Automatically sets correct headers.  \n",
        "\n",
        "It is the preferred way of returning JSON data in Flask APIs.  \n",
        "\n",
        "---\n",
        "\n",
        "## Q16. Explain Flask’s `url_for()` function.\n",
        "The `url_for()` function generates URLs dynamically based on route names instead of hardcoding them.  \n",
        "- Example: `url_for(\"home\")` → `/home`.  \n",
        "- Helps maintain flexibility – if routes change, code still works.  \n",
        "- Reduces errors in large applications with many routes.  \n",
        "\n",
        "---\n",
        "\n",
        "## Q17. How does Flask handle static files (CSS, JavaScript, etc.)?\n",
        "Flask serves static files (images, CSS, JavaScript) from a default folder named `static/`.  \n",
        "- Developers can access them via `url_for(\"static\", filename=\"style.css\")`.  \n",
        "- This keeps assets organized and easily accessible.  \n",
        "\n",
        "Static files are crucial for styling and interactivity in web applications.  \n",
        "\n",
        "---\n",
        "\n",
        "## Q18. What is an API specification, and how does it help in building a Flask API?\n",
        "An API specification formally defines how the API behaves. It includes endpoints, methods, input/output formats, and status codes.  \n",
        "- In Flask, following a specification ensures the API is consistent and predictable.  \n",
        "- Tools like Swagger/OpenAPI can generate documentation from specs.  \n",
        "- It helps teams collaborate efficiently and reduces misunderstandings.  \n",
        "\n",
        "---\n",
        "\n",
        "## Q19. What are HTTP status codes, and why are they important in a Flask API?\n",
        "HTTP status codes are 3-digit numbers that indicate the result of an HTTP request.  \n",
        "- **200 (OK):** Request successful.  \n",
        "- **201 (Created):** Resource created successfully.  \n",
        "- **400 (Bad Request):** Invalid input from client.  \n",
        "- **404 (Not Found):** Requested resource missing.  \n",
        "- **500 (Server Error):** Internal server problem.  \n",
        "\n",
        "They are important because they communicate the outcome of API calls clearly to clients.  \n",
        "\n",
        "---\n",
        "\n",
        "## Q20. How do you handle POST requests in Flask?\n",
        "To handle a POST request:  \n",
        "- Define a route with `methods=[\"POST\"]`.  \n",
        "- Use `request.form`, `request.json`, or `request.data` to extract input.  \n",
        "- Process the data (e.g., save to database).  \n",
        "- Return a JSON response with a relevant status code.  \n",
        "\n",
        "POST requests are mainly used to create new records in RESTful APIs.  \n",
        "\n",
        "---\n",
        "\n",
        "## Q21. How would you secure a Flask API?\n",
        "Securing a Flask API involves:  \n",
        "- **Authentication & Authorization:** Using JWT (JSON Web Tokens) or OAuth2.  \n",
        "- **Input validation:** Preventing malicious inputs (SQL injection, XSS).  \n",
        "- **HTTPS:** Encrypting data in transit.  \n",
        "- **Rate limiting:** Protecting against denial-of-service attacks.  \n",
        "- **Error handling:** Avoid exposing sensitive server information.  \n",
        "\n",
        "Security ensures only legitimate users can access and manipulate resources.  \n",
        "\n",
        "---\n",
        "\n",
        "## Q22. What is the significance of the Flask-RESTful extension?\n",
        "Flask-RESTful is an extension that simplifies the creation of REST APIs.  \n",
        "- Provides `Resource` classes to define endpoints more cleanly.  \n",
        "- Handles input parsing, request/response formatting, and error handling.  \n",
        "- Encourages best practices for RESTful API design.  \n",
        "\n",
        "It reduces boilerplate code and speeds up development.  \n",
        "\n",
        "---\n",
        "\n",
        "## Q23. What is the role of Flask’s session object?\n",
        "The `session` object in Flask stores data specific to a user across multiple requests.  \n",
        "- It is stored securely on the client side using cookies (signed with a secret key).  \n",
        "- Commonly used for login sessions, preferences, and temporary data.  \n",
        "\n",
        "This allows web apps to “remember” users between page visits.  \n",
        "\n",
        "---"
      ],
      "metadata": {
        "id": "l79jsygWhJ6l"
      }
    },
    {
      "cell_type": "code",
      "source": [
        "# Q1. How do you create a basic Flask application?\n",
        "from flask import Flask\n",
        "\n",
        "app = Flask(__name__)\n",
        "\n",
        "@app.route('/')\n",
        "def home():\n",
        "    return \"Hello, this is my first Flask app!\"\n",
        "\n"
      ],
      "metadata": {
        "id": "zJduItCLnGyk"
      },
      "execution_count": 8,
      "outputs": []
    },
    {
      "cell_type": "code",
      "source": [
        "# Q2. How do you serve static files like images or CSS in Flask?\n",
        "from flask import Flask\n",
        "\n",
        "app = Flask(__name__, static_url_path='/static')\n",
        "\n",
        "\n"
      ],
      "metadata": {
        "id": "19bqaHU5nhti"
      },
      "execution_count": 9,
      "outputs": []
    },
    {
      "cell_type": "code",
      "source": [
        "# Q3. How do you define different routes with different HTTP methods in Flask?\n",
        "from flask import Flask, request\n",
        "\n",
        "app = Flask(__name__)\n",
        "\n",
        "@app.route('/submit', methods=['GET', 'POST'])\n",
        "def submit():\n",
        "    if request.method == 'POST':\n",
        "        return \"Form submitted using POST\"\n",
        "    return \"Send form data using GET or POST\"\n",
        "\n",
        "\n"
      ],
      "metadata": {
        "id": "cSoRxzYNnnSg"
      },
      "execution_count": 10,
      "outputs": []
    },
    {
      "cell_type": "code",
      "source": [
        "# Q4. How do you render HTML templates in Flask?\n",
        "from flask import Flask, render_template\n",
        "\n",
        "app = Flask(__name__)\n",
        "\n",
        "@app.route('/hello')\n",
        "def hello():\n",
        "    return render_template('hello.html')\n",
        "\n"
      ],
      "metadata": {
        "id": "VSNXfxYVnsCj"
      },
      "execution_count": 11,
      "outputs": []
    },
    {
      "cell_type": "code",
      "source": [
        "# Q5. How can you generate URLs for routes in Flask using url_for?\n",
        "from flask import Flask, url_for\n",
        "\n",
        "app = Flask(__name__)\n",
        "\n",
        "@app.route('/profile')\n",
        "def profile():\n",
        "    return \"User Profile Page\"\n",
        "\n",
        "with app.test_request_context():\n",
        "    print(url_for('profile'))\n",
        "\n",
        "\n"
      ],
      "metadata": {
        "colab": {
          "base_uri": "https://localhost:8080/"
        },
        "id": "s24L_EqKnxQd",
        "outputId": "2b1f069d-0ca4-47c3-d6e1-4838ca222b01"
      },
      "execution_count": 12,
      "outputs": [
        {
          "output_type": "stream",
          "name": "stdout",
          "text": [
            "/profile\n"
          ]
        }
      ]
    },
    {
      "cell_type": "code",
      "source": [
        "# Q6. How do you handle forms in Flask?\n",
        "from flask import Flask, request\n",
        "\n",
        "app = Flask(__name__)\n",
        "\n",
        "@app.route('/login', methods=['GET', 'POST'])\n",
        "def login():\n",
        "    if request.method == 'POST':\n",
        "        return f\"Welcome {request.form['username']}\"\n",
        "    return '''\n",
        "        <form method=\"post\">\n",
        "            <input type=\"text\" name=\"username\"/>\n",
        "            <input type=\"submit\"/>\n",
        "        </form>\n",
        "    '''\n",
        "\n",
        "\n"
      ],
      "metadata": {
        "id": "FchJWCqin4HK"
      },
      "execution_count": 13,
      "outputs": []
    },
    {
      "cell_type": "code",
      "source": [
        "# Q7. How can you validate form data in Flask?\n",
        "from flask import Flask, request\n",
        "\n",
        "app = Flask(__name__)\n",
        "\n",
        "@app.route('/validate', methods=['POST'])\n",
        "def validate():\n",
        "    username = request.form.get(\"username\", \"\")\n",
        "    if not username:\n",
        "        return \"Username is required!\"\n",
        "    return f\"Valid Username: {username}\"\n",
        "\n",
        "\n"
      ],
      "metadata": {
        "id": "zN-d4WJWoBMa"
      },
      "execution_count": 15,
      "outputs": []
    },
    {
      "cell_type": "code",
      "source": [
        "# Q8. How do you manage sessions in Flask?\n",
        "from flask import Flask, session\n",
        "\n",
        "app = Flask(__name__)\n",
        "app.secret_key = \"secret_key\"\n",
        "\n",
        "@app.route('/set_session')\n",
        "def set_session():\n",
        "    session['user'] = \"Karan\"\n",
        "    return \"Session set!\"\n",
        "\n",
        "@app.route('/get_session')\n",
        "def get_session():\n",
        "    return session.get('user', 'No session found')\n",
        "\n",
        "\n"
      ],
      "metadata": {
        "id": "1hXu6tMDoY4r"
      },
      "execution_count": 16,
      "outputs": []
    },
    {
      "cell_type": "code",
      "source": [
        "# Q9. How do you redirect to a different route in Flask?\n",
        "from flask import Flask, redirect, url_for\n",
        "\n",
        "app = Flask(__name__)\n",
        "\n",
        "@app.route('/')\n",
        "def home():\n",
        "    return redirect(url_for('dashboard'))\n",
        "\n",
        "@app.route('/dashboard')\n",
        "def dashboard():\n",
        "    return \"Welcome to Dashboard!\"\n",
        "\n"
      ],
      "metadata": {
        "id": "wLmqmXBrob0h"
      },
      "execution_count": 17,
      "outputs": []
    },
    {
      "cell_type": "code",
      "source": [
        "# Q10. How do you handle errors in Flask (e.g., 404)?\n",
        "from flask import Flask\n",
        "\n",
        "app = Flask(__name__)\n",
        "\n",
        "@app.errorhandler(404)\n",
        "def not_found(e):\n",
        "    return \"404 Error: Page not found\", 404\n",
        "\n",
        "\n"
      ],
      "metadata": {
        "id": "RZrlI9e-ojFk"
      },
      "execution_count": 18,
      "outputs": []
    },
    {
      "cell_type": "code",
      "source": [
        "# Q11. How do you structure a Flask app using Blueprints?\n",
        "from flask import Flask, Blueprint\n",
        "\n",
        "bp = Blueprint('simple_page', __name__)\n",
        "\n",
        "@bp.route('/hello')\n",
        "def hello():\n",
        "    return \"Hello from Blueprint!\"\n",
        "\n",
        "app = Flask(__name__)\n",
        "app.register_blueprint(bp)\n",
        "\n",
        "\n"
      ],
      "metadata": {
        "id": "nTfZIpuJoz5K"
      },
      "execution_count": 19,
      "outputs": []
    },
    {
      "cell_type": "code",
      "source": [
        "# Q12. How do you define a custom Jinja filter in Flask?\n",
        "from flask import Flask\n",
        "\n",
        "app = Flask(__name__)\n",
        "\n",
        "@app.template_filter('reverse')\n",
        "def reverse_filter(s):\n",
        "    return s[::-1]\n",
        "\n",
        "@app.route('/filter')\n",
        "def filter_demo():\n",
        "    return \"{{ 'hello'|reverse }}\"\n",
        "\n",
        "\n"
      ],
      "metadata": {
        "id": "3igNcXc3o4WZ"
      },
      "execution_count": 20,
      "outputs": []
    },
    {
      "cell_type": "code",
      "source": [
        "# Q13. How can you redirect with query parameters in Flask?\n",
        "from flask import Flask, redirect, url_for\n",
        "\n",
        "app = Flask(__name__)\n",
        "\n",
        "@app.route('/redirect')\n",
        "def redir():\n",
        "    return redirect(url_for('greet', name=\"Karan\"))\n",
        "\n",
        "@app.route('/greet')\n",
        "def greet():\n",
        "    return \"Hello Karan!\"\n",
        "\n",
        "\n"
      ],
      "metadata": {
        "id": "hxzsEErZpixe"
      },
      "execution_count": 21,
      "outputs": []
    },
    {
      "cell_type": "code",
      "source": [
        "# Q14. How do you return JSON responses in Flask?\n",
        "from flask import Flask, jsonify\n",
        "\n",
        "app = Flask(__name__)\n",
        "\n",
        "@app.route('/json')\n",
        "def json_demo():\n",
        "    return jsonify({\"name\": \"Karan\", \"age\": 21})\n",
        "\n",
        "\n"
      ],
      "metadata": {
        "id": "OZn68hA-pn9E"
      },
      "execution_count": 22,
      "outputs": []
    },
    {
      "cell_type": "code",
      "source": [
        "# Q15. How do you capture URL parameters in Flask?\n",
        "from flask import Flask\n",
        "\n",
        "app = Flask(__name__)\n",
        "\n",
        "@app.route('/user/<username>')\n",
        "def show_user(username):\n",
        "    return f\"Hello {username}!\"\n",
        "\n",
        "\n"
      ],
      "metadata": {
        "id": "MTSC2UXpptZu"
      },
      "execution_count": 23,
      "outputs": []
    }
  ]
}